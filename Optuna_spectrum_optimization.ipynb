{
 "cells": [
  {
   "cell_type": "markdown",
   "metadata": {},
   "source": [
    "Test case: using on-axis scattering and our classics code for Compton spectrum calculation (https://github.com/maxbalrog/Compton_scattering_classic), for a fixed $(a_0, \\tau)$ pair try to optimize $\\beta$ parameter in laser pulse with gauss_spectral temporal envelope so that the spectra will have the highest photon peak."
   ]
  },
  {
   "cell_type": "code",
   "execution_count": 1,
   "metadata": {},
   "outputs": [],
   "source": [
    "import numpy as np\n",
    "import matplotlib.pyplot as plt\n",
    "from matplotlib import rcParams\n",
    "\n",
    "rcParams['font.size'] = 16\n",
    "rcParams['lines.linewidth'] = 2\n",
    "\n",
    "import optuna\n",
    "from optuna.visualization import plot_optimization_history\n",
    "\n",
    "from ComptonSpec_classic import Trajectory, Spectrum\n",
    "from utils_simulation import *\n",
    "\n",
    "SEED = 33\n",
    "np.random.seed(SEED)"
   ]
  },
  {
   "cell_type": "code",
   "execution_count": 2,
   "metadata": {},
   "outputs": [],
   "source": [
    "u0, r0 = np.array([0.,0.,0.]), np.array([0.,0.,0.])\n",
    "traj = Trajectory(u0, r0)\n",
    "\n",
    "# Laser pulse parameters\n",
    "tau = 2 * np.pi    # Pulse duration\n",
    "a0 = 1             # Pulse amplitude\n",
    "mode = 'gauss_spectral'   # Temporal envelope\n",
    "beta = 4            # Chirp parameter\n",
    "polarization = 'circular'\n",
    "\n",
    "# Define laser phase grid and calculate vector potential\n",
    "eta_b = 4.4*tau*np.sqrt(1+beta**2)\n",
    "eta = np.linspace(-eta_b, eta_b, int(2*eta_b*100))\n",
    "A = calc_A(eta, mode, tau, a0, beta)\n",
    "u, r = traj.calc_u_x(A, eta)\n",
    "\n",
    "# Calculate spectrum\n",
    "spec = Spectrum(eta, u, r)\n",
    "\n",
    "theta = np.pi\n",
    "phi = 0\n",
    "I, w = spec.calc_spectrum_I_w(theta=theta, phi=phi)"
   ]
  },
  {
   "cell_type": "code",
   "execution_count": 3,
   "metadata": {},
   "outputs": [
    {
     "data": {
      "image/png": "[encoded data removed]",
      "text/plain": [
       "<Figure size 720x576 with 1 Axes>"
      ]
     },
     "metadata": {
      "needs_background": "light"
     },
     "output_type": "display_data"
    }
   ],
   "source": [
    "# Plot spectrum I(w)\n",
    "w0, w1 = [0.1, 1.5]\n",
    "idx = (w >= w0) & (w <= w1)\n",
    "w_plot, I_plot = w[idx], I[idx]\n",
    "\n",
    "fig, ax = plt.subplots(figsize=(10,8))\n",
    "plt.plot(w_plot, I_plot/w_plot/137, label='numerical')\n",
    "plt.xlabel('$\\omega$')\n",
    "plt.ylabel('$d^2 N_{ph} / d\\omega d\\Omega$')\n",
    "plt.show()"
   ]
  },
  {
   "cell_type": "markdown",
   "metadata": {},
   "source": [
    "### Optuna objective function and optuna optimization"
   ]
  },
  {
   "cell_type": "code",
   "execution_count": 4,
   "metadata": {},
   "outputs": [],
   "source": [
    "# Define objective function for linear chirp optimization for a specific (a0, tau) pair\n",
    "u0, r0 = np.array([0.,0.,0.]), np.array([0.,0.,0.])\n",
    "traj = Trajectory(u0, r0)\n",
    "\n",
    "mode = 'gauss_spectral'\n",
    "tau = 2 * np.pi \n",
    "a0 = 2\n",
    "theta = np.pi\n",
    "phi = 0\n",
    "wb = [0., 1.5]\n",
    "\n",
    "def objective(trial):\n",
    "    # Define range over chirp values\n",
    "    beta = trial.suggest_float(\"beta\", 0, 25)\n",
    "    # Calculate spectrun for chosen beta value\n",
    "    eta_b = 4.4*tau*np.sqrt(1+beta**2)\n",
    "    eta = np.linspace(-eta_b, eta_b, int(2*eta_b*100))\n",
    "    # Calculate laser pulse vector potential and electron trajectory\n",
    "    A = calc_A(eta, mode, tau=tau, a0=a0, beta=beta, polarization=polarization)\n",
    "    u, r = traj.calc_u_x(A, eta)\n",
    "    # Calculate Compton spectra\n",
    "    spec = Spectrum(eta, u, r)\n",
    "    I, w = spec.calc_spectrum_I_w(theta=theta, phi=phi)\n",
    "    idx = (w > 0)\n",
    "    # Transform d2 I/dw dOmega -> d2 N_ph / dw dOmega\n",
    "    N_ph = I[idx] / w[idx] / 137\n",
    "    w = w[idx]\n",
    "    idx = (w >= wb[0]) & (w <= wb[1])\n",
    "    return np.max(N_ph[idx])"
   ]
  },
  {
   "cell_type": "code",
   "execution_count": 5,
   "metadata": {
    "tags": []
   },
   "outputs": [
    {
     "name": "stderr",
     "output_type": "stream",
     "text": [
      "\u001b[32m[I 2022-02-21 13:25:11,596]\u001b[0m A new study created in RDB with name: chirp_optimization\u001b[0m\n"
     ]
    }
   ],
   "source": [
    "study_name = 'chirp_optimization'\n",
    "storage_name = 'sqlite:///data/optuna/{}.db'.format(study_name)\n",
    "study = optuna.create_study(direction=\"maximize\", study_name=study_name, storage=storage_name, load_if_exists=True)"
   ]
  },
  {
   "cell_type": "code",
   "execution_count": null,
   "metadata": {
    "tags": []
   },
   "outputs": [
    {
     "name": "stderr",
     "output_type": "stream",
     "text": [
      "\u001b[32m[I 2022-02-21 13:25:12,569]\u001b[0m Trial 0 finished with value: 0.22029984784933396 and parameters: {'beta': 17.204201467832068}. Best is trial 0 with value: 0.22029984784933396.\u001b[0m\n",
      "\u001b[32m[I 2022-02-21 13:25:15,596]\u001b[0m Trial 1 finished with value: 0.15891718726195314 and parameters: {'beta': 23.5519407512178}. Best is trial 0 with value: 0.22029984784933396.\u001b[0m\n",
      "\u001b[32m[I 2022-02-21 13:25:16,321]\u001b[0m Trial 2 finished with value: 0.08310321729512965 and parameters: {'beta': 5.183159781654031}. Best is trial 0 with value: 0.22029984784933396.\u001b[0m\n",
      "\u001b[32m[I 2022-02-21 13:25:17,343]\u001b[0m Trial 3 finished with value: 0.23584204689597696 and parameters: {'beta': 15.850065725251245}. Best is trial 3 with value: 0.23584204689597696.\u001b[0m\n",
      "\u001b[32m[I 2022-02-21 13:25:17,519]\u001b[0m Trial 4 finished with value: 0.026144902575044107 and parameters: {'beta': 1.662154019462034}. Best is trial 3 with value: 0.23584204689597696.\u001b[0m\n",
      "\u001b[32m[I 2022-02-21 13:25:20,542]\u001b[0m Trial 5 finished with value: 0.17168745579067013 and parameters: {'beta': 21.899165833789656}. Best is trial 3 with value: 0.23584204689597696.\u001b[0m\n",
      "\u001b[32m[I 2022-02-21 13:25:21,465]\u001b[0m Trial 6 finished with value: 0.23972027146452776 and parameters: {'beta': 15.497497381007719}. Best is trial 6 with value: 0.23972027146452776.\u001b[0m\n",
      "\u001b[32m[I 2022-02-21 13:25:21,796]\u001b[0m Trial 7 finished with value: 0.09178987509649149 and parameters: {'beta': 5.523947688633168}. Best is trial 6 with value: 0.23972027146452776.\u001b[0m\n",
      "\u001b[32m[I 2022-02-21 13:25:24,545]\u001b[0m Trial 8 finished with value: 0.17572509517614235 and parameters: {'beta': 21.432009980543416}. Best is trial 6 with value: 0.23972027146452776.\u001b[0m\n",
      "\u001b[32m[I 2022-02-21 13:25:27,403]\u001b[0m Trial 9 finished with value: 0.2100256818684645 and parameters: {'beta': 18.08761260672289}. Best is trial 6 with value: 0.23972027146452776.\u001b[0m\n",
      "\u001b[32m[I 2022-02-21 13:25:28,074]\u001b[0m Trial 10 finished with value: 0.25871986882304276 and parameters: {'beta': 11.622728104113477}. Best is trial 10 with value: 0.25871986882304276.\u001b[0m\n"
     ]
    }
   ],
   "source": [
    "study.optimize(objective, n_trials=30)"
   ]
  },
  {
   "cell_type": "code",
   "execution_count": null,
   "metadata": {},
   "outputs": [],
   "source": [
    "print(\"Best params: {}\".format(study.best_params))\n",
    "print(\"Best value: {}\".format(study.best_value))"
   ]
  },
  {
   "cell_type": "code",
   "execution_count": null,
   "metadata": {},
   "outputs": [],
   "source": [
    "folder = 'data/simulation/tau_2'\n",
    "data = load_data_fixed_tau(folder)\n",
    "w_a0_list, N_ph_a0_list = data[:2]\n",
    "beta_arr, a0_arr, N_max_beta_a0, beta_optimal = data[2:]"
   ]
  },
  {
   "cell_type": "code",
   "execution_count": null,
   "metadata": {},
   "outputs": [],
   "source": [
    "idx = np.where(np.isclose(a0_arr, a0))[0][0]\n",
    "print(f'Optuna beta: {study.best_params}')\n",
    "print(f'Simulation optimal beta: {beta_optimal[idx]}')\n",
    "\n",
    "print(f'# of optuna trials: {len(study.trials)}')\n",
    "print(f'Simulation grid length: {beta_arr.shape[0]}')"
   ]
  },
  {
   "cell_type": "code",
   "execution_count": null,
   "metadata": {},
   "outputs": [],
   "source": [
    "plot_optimization_history(study)"
   ]
  },
  {
   "cell_type": "code",
   "execution_count": null,
   "metadata": {},
   "outputs": [],
   "source": [
    "# Collect trial history (beta, N_ph_max)\n",
    "trials = study.trials\n",
    "beta_arr_optuna, N_ph_arr_optuna = [], []\n",
    "for trial in trials:\n",
    "    beta = trial.params['beta']\n",
    "    beta_arr_optuna.append(beta)\n",
    "    N = trial.values[0]\n",
    "    N_ph_arr_optuna.append(N)"
   ]
  },
  {
   "cell_type": "code",
   "execution_count": null,
   "metadata": {},
   "outputs": [],
   "source": [
    "# Plot optimization history\n",
    "fig, ax = plt.subplots(figsize=(8,6))\n",
    "plt.plot(beta_arr_optuna, N_ph_arr_optuna, '.', label='optuna trials')\n",
    "plt.scatter(beta_optimal[idx], np.max(N_ph_arr_optuna), color='red', marker='*', s=150, label='simulation')\n",
    "plt.scatter(study.best_params['beta'], np.max(N_ph_arr_optuna), color='blue', marker='*', s=150, label='optuna')\n",
    "plt.legend(loc='best')\n",
    "plt.xlabel('$\\\\beta$')\n",
    "plt.ylabel('$d N_{ph}/d\\omega$')\n",
    "plt.show()"
   ]
  },
  {
   "cell_type": "code",
   "execution_count": null,
   "metadata": {},
   "outputs": [],
   "source": []
  }
 ],
 "metadata": {
  "kernelspec": {
   "display_name": "Python 3",
   "language": "python",
   "name": "python3"
  },
  "language_info": {
   "codemirror_mode": {
    "name": "ipython",
    "version": 3
   },
   "file_extension": ".py",
   "mimetype": "text/x-python",
   "name": "python",
   "nbconvert_exporter": "python",
   "pygments_lexer": "ipython3",
   "version": "3.8.10"
  }
 },
 "nbformat": 4,
 "nbformat_minor": 4
}
